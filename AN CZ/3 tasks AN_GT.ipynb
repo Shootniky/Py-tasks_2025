{
 "cells": [
  {
   "metadata": {},
   "cell_type": "markdown",
   "source": "Task 1 - Calculyator parametres people",
   "id": "451c8e508b873bf0"
  },
  {
   "metadata": {},
   "cell_type": "markdown",
   "source": "Variant 1:",
   "id": "3606a773f93327f3"
  },
  {
   "cell_type": "code",
   "execution_count": null,
   "id": "initial_id",
   "metadata": {
    "collapsed": true
   },
   "outputs": [],
   "source": [
    "# Calculation your parameters:\n",
    "name = input(\"Enter your Name\")\n",
    "human_height = float(input(\"Enter the your height in meters:\"))\n",
    "human_weight = float(input(\"Enter the your weight in kilograms:\"))\n",
    "human_rates  = human_weight * 10000 / (human_height ** 2)\n",
    "print(human_rates)\n",
    "if human_rates < 18.5:\n",
    "    print(f\"Dear {name}, your {human_rates.__round__(2)} is underweight \")\n",
    "elif  18.5  <= human_rates < 25 :\n",
    "    print(f\"Dear {name}, your {human_rates.__round__(2)} is normal \")\n",
    "elif 25 <= human_rates < 30:\n",
    "    print(f\"Dear, {name}, your weight {human_rates.__round__(2)} is overweight \")\n",
    "else:\n",
    "    print(f\"Dear, {name}, your weight is killing you. Your indicator weight is {human_rates.__round__(2)} Do you have a obesity\")"
   ]
  },
  {
   "metadata": {},
   "cell_type": "markdown",
   "source": "Variant 2:",
   "id": "a2fc0a292bb78f"
  },
  {
   "metadata": {},
   "cell_type": "code",
   "outputs": [],
   "execution_count": null,
   "source": [
    "name = input(\"Enter your Name\")\n",
    "weight = float(input(\"Enter your weight in kilograms:\"))\n",
    "height = float(input(\"Enter your height in meters:\"))\n",
    "if 2.51 <=  height < 100.0:\n",
    "    raise ValueError (\"Your height in meters is too high\")\n",
    "elif height >= 100.0:\n",
    "    bmi = weight / (height / 100) ** 2\n",
    "    print(bmi)    \n",
    "elif 1.45 <= height < 2.51:\n",
    "    bmi = weight / (height ** 2)\n",
    "if  bmi < 18.5:\n",
    "    print(f\"Dear, {name}, your {bmi:.2f} is underweight \")\n",
    "elif 18.5 <= bmi < 25:\n",
    "    #elif bmi >= 18.5 and bmi < 25:   \n",
    "    print(f\"Dear, {name}, your {bmi:.2f} is normal \")\n",
    "elif 25 <= bmi < 30:\n",
    "    print(f\"Dear, {name}, your weight {bmi:.2f} is overweight \")\n",
    "elif bmi >= 40:\n",
    "    print(f\"Dear, {name}, your weight is killing you. Your indicator weight is {bmi:.2f} Do you have a obesity\")  "
   ],
   "id": "8fea6c6eb6b18c36"
  },
  {
   "metadata": {},
   "cell_type": "markdown",
   "source": "Task 2 - Number to Time",
   "id": "8754b7aaec2056db"
  },
  {
   "metadata": {},
   "cell_type": "code",
   "outputs": [],
   "execution_count": null,
   "source": [
    "name = input(\"Enter your Name:\")\n",
    "time = float(input(\"Enter time of day:\"))\n",
    "if 6 <= time < 12:\n",
    "    print(f\"Dear, {name}, your time of day is Morning\")\n",
    "elif 12 <= time < 18:\n",
    "    print(f\"Dear, {name}, your time of day is Afternoon\")\n",
    "elif 18 <= time < 24:\n",
    "  print(f\"Dear, {name}, your time of day is Evening\")\n",
    "elif time >= 0.01 and time <= 5.9 :\n",
    "    print(f\"Dear, {name}, your time of day is Night\")\n",
    "else:\n",
    "    raise ValueError (\"Time is out of range\")"
   ],
   "id": "95b9325bf93e1d38"
  },
  {
   "metadata": {},
   "cell_type": "markdown",
   "source": "Task 3 - Access by login and password",
   "id": "fa3459ec0973f416"
  },
  {
   "metadata": {},
   "cell_type": "code",
   "outputs": [],
   "execution_count": null,
   "source": [
    "right_login = \"admin\"\n",
    "right_password = \"qwerty123\"\n",
    "login = input(\"Enter your login:\")\n",
    "password = input(\"Enter your password:\")\n",
    "if login == right_login:\n",
    "    if password == right_password:\n",
    "        print(\"Access is allowed\")\n",
    "    else:\n",
    "        print(\"Access is forbidden\")\n",
    "else:\n",
    "    print(\"Username or password is incorrect\")"
   ],
   "id": "1e538189868da7e9"
  },
  {
   "metadata": {},
   "cell_type": "markdown",
   "source": "",
   "id": "b630803f4d0f1f65"
  }
 ],
 "metadata": {
  "kernelspec": {
   "display_name": "Python 3",
   "language": "python",
   "name": "python3"
  },
  "language_info": {
   "codemirror_mode": {
    "name": "ipython",
    "version": 2
   },
   "file_extension": ".py",
   "mimetype": "text/x-python",
   "name": "python",
   "nbconvert_exporter": "python",
   "pygments_lexer": "ipython2",
   "version": "2.7.6"
  }
 },
 "nbformat": 4,
 "nbformat_minor": 5
}
