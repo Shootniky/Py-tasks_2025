{
 "cells": [
  {
   "metadata": {},
   "cell_type": "markdown",
   "source": "Answers to the tasks 1 - Input - print",
   "id": "64ebd3631f695700"
  },
  {
   "metadata": {},
   "cell_type": "markdown",
   "source": [
    "Условие\n",
    "Дано число n. С начала суток прошло n минут. Определите, сколько часов и минут будут показывать электронные часы в этот момент. Программа должна вывести два числа: количество часов (от 0 до 23) и количество минут (от 0 до 59). Учтите, что число n может быть больше, чем количество минут в сутках."
   ],
   "id": "789f7c48e854a2ef"
  },
  {
   "metadata": {},
   "cell_type": "code",
   "outputs": [],
   "execution_count": null,
   "source": [
    "number = int(input())\n",
    "hours = number // 60\n",
    "minutes = number % 60\n",
    "remainder = number // 60 % 24\n",
    "if hours >= 24 and hours < 48:\n",
    "    hours = hours - 24\n",
    "elif hours >=48:\n",
    "    hours = remainder\n",
    "print (hours, minutes, remainder)"
   ],
   "id": "6facc0235d6a1df7"
  },
  {
   "metadata": {},
   "cell_type": "markdown",
   "source": [
    "Условие\n",
    "В школе решили набрать три новых математических класса. Так как занятия по математике у них проходят в одно и то же время, было решено выделить кабинет для каждого класса и купить в них новые парты. За каждой партой может сидеть не больше двух учеников. Известно количество учащихся в каждом из трёх классов. Сколько всего нужно закупить парт чтобы их хватило на всех учеников? Программа получает на вход три натуральных числа: количество учащихся в каждом из трех классов."
   ],
   "id": "43f22db4068e43f5"
  },
  {
   "metadata": {},
   "cell_type": "code",
   "outputs": [],
   "execution_count": null,
   "source": [
    "class1 = int(input())\n",
    "class2 = int(input())\n",
    "class3 = int(input())\n",
    "desk1 = class1 // 2 + class1 % 2\n",
    "desk2 = class2 // 2 + class2 % 2\n",
    "desk3 = class3 // 2 + class3 % 2\n",
    "print(desk1 + desk2 + desk3)"
   ],
   "id": "19b5453d7821bc66"
  },
  {
   "metadata": {},
   "cell_type": "markdown",
   "source": [
    "Условие\n",
    "Обувная фабрика собирается начать выпуск элитной модели ботинок. Дырочки для шнуровки будут расположены в два ряда, расстояние между рядами равно a\n",
    ", а расстояние между дырочками в ряду b\n",
    ". Количество дырочек в каждом ряду равно N\n",
    ". Шнуровка должна происходить элитным способом “наверх, по горизонтали в другой ряд, наверх, по горизонтали и т.д.” (см. рисунок). Кроме того, чтобы шнурки можно было завязать элитным бантиком, длина свободного конца шнурка должна быть l\n",
    ". Какова должна быть длина шнурка для этих ботинок?\n",
    "\n",
    "Программа получает на вход четыре натуральных числа a , b , l и N именно в таком порядке - и должна вывести одно число - искомую длину шнурка."
   ],
   "id": "1160a758b51b3c24"
  },
  {
   "metadata": {},
   "cell_type": "code",
   "outputs": [],
   "execution_count": null,
   "source": [
    "a = int(input())\n",
    "b = int(input())\n",
    "l = int(input())\n",
    "N = int(input())\n",
    "if N != 1:\n",
    "    a = a * (N - 1) + a * (N - 1) + a\n",
    "    b = b * (N - 1) + b * (N - 1)\n",
    "    l = l * 2\n",
    "elif a // l == 2:\n",
    "    l = 1\n",
    "print(a + l + b)"
   ],
   "id": "3b10927086656e9e"
  },
  {
   "metadata": {},
   "cell_type": "code",
   "outputs": [],
   "execution_count": null,
   "source": "",
   "id": "fdd3fd9b6417e012"
  }
 ],
 "metadata": {
  "kernelspec": {
   "display_name": "Python 3",
   "language": "python",
   "name": "python3"
  },
  "language_info": {
   "codemirror_mode": {
    "name": "ipython",
    "version": 2
   },
   "file_extension": ".py",
   "mimetype": "text/x-python",
   "name": "python",
   "nbconvert_exporter": "python",
   "pygments_lexer": "ipython2",
   "version": "2.7.6"
  }
 },
 "nbformat": 4,
 "nbformat_minor": 5
}
