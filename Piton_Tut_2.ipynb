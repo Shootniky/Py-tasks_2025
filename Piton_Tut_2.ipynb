{
 "cells": [
  {
   "metadata": {},
   "cell_type": "markdown",
   "source": "",
   "id": "34a65a74051081cf"
  },
  {
   "metadata": {},
   "cell_type": "markdown",
   "source": [
    "Условие\n",
    "Заданы две клетки шахматной доски. Если они покрашены в один цвет, то выведите слово YES, а если в разные цвета — то NO. Программа получает на вход четыре числа от 1 до 8 каждое, задающие номер столбца и номер строки сначала для первой клетки, потом для второй клетки."
   ],
   "id": "61e1b779b2fd3260"
  },
  {
   "metadata": {
    "ExecuteTime": {
     "end_time": "2025-08-02T12:41:16.787002Z",
     "start_time": "2025-08-02T12:41:11.398856Z"
    }
   },
   "cell_type": "code",
   "source": [
    "cell1 = int(input())\n",
    "cell2 = int(input())\n",
    "cell3 = int(input())\n",
    "cell4 = int(input())\n",
    "kage1 = cell1 + cell2 \n",
    "kage2 = cell3 + cell4\n",
    "if kage1 % 2 == 0 and kage2 % 2 != 0:\n",
    "    print(\"NO\")\n",
    "elif kage1 % 2 != 0 and kage2 % 2 == 0:\n",
    "    print(\"NO\")\n",
    "else:\n",
    "    print(\"YES\")\n",
    "    "
   ],
   "id": "2e433c176212087b",
   "outputs": [
    {
     "name": "stdout",
     "output_type": "stream",
     "text": [
      "YES\n"
     ]
    }
   ],
   "execution_count": 4
  },
  {
   "metadata": {},
   "cell_type": "markdown",
   "source": [
    "Условие\n",
    "Даны три целых числа. Выведите значение наименьшего из них."
   ],
   "id": "17ea2f10305cfb4"
  },
  {
   "metadata": {
    "ExecuteTime": {
     "end_time": "2025-08-03T02:48:11.717860Z",
     "start_time": "2025-08-03T02:48:05.559329Z"
    }
   },
   "cell_type": "code",
   "source": [
    "number1 = int(input())\n",
    "number2 = int(input())\n",
    "number3 = int(input())\n",
    "answer = number1 + number2 + number3 // 3\n",
    "print (answer)\n",
    "if number1 != number2 != number3:\n",
    "    if number1 < number2 < number3:\n",
    "        print(number1)\n",
    "    elif number3 > number1 > number2:\n",
    "        print(number2)\n",
    "    else:\n",
    "        print(number3)\n",
    "elif number1 != number2 == number3:\n",
    "    if number1 > number3:\n",
    "        print(number3)\n",
    "    else:\n",
    "        print(number1)\n",
    "elif number1 == number2 != number3:\n",
    "    if number1 > number3:\n",
    "        print(number3)\n",
    "    else:\n",
    "        print(number1)"
   ],
   "id": "14316de024ed71d2",
   "outputs": [
    {
     "name": "stdout",
     "output_type": "stream",
     "text": [
      "14\n",
      "2\n"
     ]
    }
   ],
   "execution_count": 5
  },
  {
   "metadata": {},
   "cell_type": "markdown",
   "source": [
    "Условие\n",
    "Даны три целых числа. Определите, сколько среди них совпадающих. Программа должна вывести одно из чисел: 3 (если все совпадают), 2 (если два совпадает) или 0 (если все числа различны)."
   ],
   "id": "cf9c14bc92556010"
  },
  {
   "metadata": {
    "ExecuteTime": {
     "end_time": "2025-08-03T03:01:17.900437Z",
     "start_time": "2025-08-03T03:01:09.745019Z"
    }
   },
   "cell_type": "code",
   "source": [
    "number1 = int(input())\n",
    "number2 = int(input())\n",
    "number3 = int(input())\n",
    "if number1 == number2 == number3:\n",
    "    print(\"3\")\n",
    "elif number1 == number2 or number1 == number3 or number2 == number3:\n",
    "    print(\"2\")\n",
    "else:\n",
    "    print(\"0\")"
   ],
   "id": "8fc271648e0880f3",
   "outputs": [
    {
     "name": "stdout",
     "output_type": "stream",
     "text": [
      "0\n"
     ]
    }
   ],
   "execution_count": 6
  },
  {
   "metadata": {},
   "cell_type": "markdown",
   "source": [
    "Условие\n",
    "Шахматная ладья ходит по горизонтали или вертикали. Даны две различные клетки шахматной доски, определите, может ли ладья попасть с первой клетки на вторую одним ходом. Программа получает на вход четыре числа от 1 до 8 каждое, задающие номер столбца и номер строки сначала для первой клетки, потом для второй клетки. Программа должна вывести YES, если из первой клетки ходом ладьи можно попасть во вторую или NO в противном случае."
   ],
   "id": "d8dac78639d1bd34"
  },
  {
   "metadata": {},
   "cell_type": "code",
   "outputs": [],
   "execution_count": null,
   "source": [
    "cell1 = int(input())\n",
    "cell2 = int(input())\n",
    "cell3 = int(input())\n",
    "cell4 = int(input())\n",
    "if cell1 + cell2 == cell3 + cell4:\n",
    "    print(\"NO\")\n",
    "elif cell2 == cell3 == cell4 or cell1 == cell4 == cell2:\n",
    "    print(\"YES\")\n",
    "elif cell2 == cell3 != 1 or cell1 == cell3:\n",
    "    print(\"YES\")\n",
    "else:\n",
    "    print(\"NO\")"
   ],
   "id": "e5e602bf62e20dc0"
  },
  {
   "metadata": {},
   "cell_type": "markdown",
   "source": "Шахматный король ходит по горизонтали, вертикали и диагонали, но только на 1 клетку. Даны две различные клетки шахматной доски, определите, может ли король попасть с первой клетки на вторую одним ходом. Программа получает на вход четыре числа от 1 до 8 каждое, задающие номер столбца и номер строки сначала для первой клетки, потом для второй клетки. Программа должна вывести YES, если из первой клетки ходом короля можно попасть во вторую или NO в противном случае.",
   "id": "cc2b18ea434d7b9c"
  },
  {
   "metadata": {
    "ExecuteTime": {
     "end_time": "2025-08-03T05:46:09.846441Z",
     "start_time": "2025-08-03T05:46:03.113201Z"
    }
   },
   "cell_type": "code",
   "source": [
    "cell1 = int(input())\n",
    "cell2 = int(input())\n",
    "cell3 = int(input())\n",
    "cell4 = int(input())\n",
    "if cell4 - cell2 >= 2 and cell3 - cell1 >= 2:\n",
    "    print(\"NO\")\n",
    "elif cell3 - cell1 >= 2 or cell4 - cell2 >=2:\n",
    "    print(\"NO\")\n",
    "elif cell2 - cell4 >= 2 or cell1 - cell3 >= 2:\n",
    "    print(\"NO\")\n",
    "else:\n",
    "    print(\"YES\")"
   ],
   "id": "170a6ed54a6ca2ba",
   "outputs": [
    {
     "name": "stdout",
     "output_type": "stream",
     "text": [
      "YES\n"
     ]
    }
   ],
   "execution_count": 8
  },
  {
   "metadata": {},
   "cell_type": "markdown",
   "source": "Шахматный слон ходит по диагонали. Даны две различные клетки шахматной доски, определите, может ли слон попасть с первой клетки на вторую одним ходом.\n",
   "id": "94c59b24a41dd2e9"
  },
  {
   "metadata": {
    "ExecuteTime": {
     "end_time": "2025-08-03T06:44:45.141303Z",
     "start_time": "2025-08-03T06:44:34.784697Z"
    }
   },
   "cell_type": "code",
   "source": [
    "cell1 = int(input())\n",
    "cell2 = int(input())\n",
    "cell3 = int(input())\n",
    "cell4 = int(input())\n",
    "kage1 = cell1 + cell2\n",
    "kage2 = cell3 + cell4\n",
    "if cell3 - cell1 == cell4 - cell2:    \n",
    "    print(\"YES\")\n",
    "elif kage1 == kage2:\n",
    "    print(\"YES\")    \n",
    "else:\n",
    "    print(\"NO\")\n"
   ],
   "id": "583aae61c4a31a27",
   "outputs": [
    {
     "name": "stdout",
     "output_type": "stream",
     "text": [
      "YES\n"
     ]
    }
   ],
   "execution_count": 10
  },
  {
   "metadata": {},
   "cell_type": "markdown",
   "source": "Шахматный ферзь ходит по диагонали, горизонтали или вертикали. Даны две различные клетки шахматной доски, определите, может ли ферзь попасть с первой клетки на вторую одним ходом.",
   "id": "309ced79c44a19b1"
  },
  {
   "metadata": {},
   "cell_type": "code",
   "outputs": [],
   "execution_count": null,
   "source": "",
   "id": "ecb6ff7e78b37e94"
  }
 ],
 "metadata": {
  "kernelspec": {
   "display_name": "Python 3",
   "language": "python",
   "name": "python3"
  },
  "language_info": {
   "codemirror_mode": {
    "name": "ipython",
    "version": 2
   },
   "file_extension": ".py",
   "mimetype": "text/x-python",
   "name": "python",
   "nbconvert_exporter": "python",
   "pygments_lexer": "ipython2",
   "version": "2.7.6"
  }
 },
 "nbformat": 4,
 "nbformat_minor": 5
}
