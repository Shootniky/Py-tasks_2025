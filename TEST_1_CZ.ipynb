{
 "cells": [
  {
   "metadata": {},
   "cell_type": "markdown",
   "source": "Необходимо решить обе задачи на использование функций\n",
   "id": "436f3e4df685225b"
  },
  {
   "metadata": {},
   "cell_type": "markdown",
   "source": "1) Написать функцию, которая примет список чисел, а вернёт список из двух значений - максимального и минимального (сортировкой пользоваться не нужно)",
   "id": "e4b4f4de30411e3e"
  },
  {
   "metadata": {
    "ExecuteTime": {
     "end_time": "2025-08-09T13:37:13.636017Z",
     "start_time": "2025-08-09T13:37:13.626507Z"
    }
   },
   "cell_type": "code",
   "source": [
    "def func(test_list : list):\n",
    "    max_number = max(test_list)\n",
    "    min_number = min(test_list)\n",
    "    return [max(numbers), min(numbers)]\n",
    "\n",
    "numbers = [1, 2, 3, 4, 5, 6, 7, 8, 9, 10]\n",
    "print(f\"Enter list is {numbers}\")\n",
    "answer = func(numbers)\n",
    "print(f\"At the output list for max number and min number of the list is {answer}\")"
   ],
   "id": "b6065e8ddcd08237",
   "outputs": [
    {
     "name": "stdout",
     "output_type": "stream",
     "text": [
      "Enter list is [1, 2, 3, 4, 5, 6, 7, 8, 9, 10]\n",
      "At the output list for max number and min number of the list is [10, 1]\n"
     ]
    }
   ],
   "execution_count": 295
  },
  {
   "metadata": {},
   "cell_type": "markdown",
   "source": "2) Написать функцию, которая примет список и число. Функция должна вернуть список всех чисел, которые больше переданного.",
   "id": "8a25e831ce92dd17"
  },
  {
   "metadata": {
    "ExecuteTime": {
     "end_time": "2025-08-09T13:37:18.315467Z",
     "start_time": "2025-08-09T13:37:18.307324Z"
    }
   },
   "cell_type": "code",
   "source": [
    "def compare(digits, zero):\n",
    "    new_list = []\n",
    "    for number in digits:\n",
    "        if number > zero:\n",
    "            new_list.append(number)\n",
    "    return new_list\n",
    "\n",
    "equal_list = [1, 5, 2, 8, 3, 10]\n",
    "number = 5\n",
    "print(f\"Enter list is {equal_list}\")\n",
    "new_list = compare(equal_list, number)\n",
    "print(f\"New list consist of numbers > {number} is {new_list}\")"
   ],
   "id": "46759fa12dc9cbd9",
   "outputs": [
    {
     "name": "stdout",
     "output_type": "stream",
     "text": [
      "Enter list is [1, 5, 2, 8, 3, 10]\n",
      "New list consist of numbers > 5 is [8, 10]\n"
     ]
    }
   ],
   "execution_count": 296
  },
  {
   "metadata": {},
   "cell_type": "markdown",
   "source": "Решение без функции, с помощью цикла",
   "id": "ef11a500f4738437"
  },
  {
   "metadata": {
    "ExecuteTime": {
     "end_time": "2025-08-09T13:40:02.158170Z",
     "start_time": "2025-08-09T13:40:02.151507Z"
    }
   },
   "cell_type": "code",
   "source": [
    "my_list = [3, 8, 2, 7, 1, 9, 4, 6]\n",
    "number = 5\n",
    "new_list = []\n",
    "for element in my_list:\n",
    "    if element > number:\n",
    "        new_list.append(element)\n",
    "print(f\"Added to the list is number > {number} in new list - result is  {new_list}\")"
   ],
   "id": "e0fa2581a1fbb2a6",
   "outputs": [
    {
     "name": "stdout",
     "output_type": "stream",
     "text": [
      "Added to the list is number > 5 in new list - result is  [8, 7, 9, 6]\n"
     ]
    }
   ],
   "execution_count": 298
  },
  {
   "metadata": {},
   "cell_type": "markdown",
   "source": [
    "\n",
    "\n",
    "Необходимо решить по одной задаче из каждого блока (одну на условия и одну на циклы). При желании можно решить все\n"
   ],
   "id": "cfaa7701d893bd0d"
  },
  {
   "metadata": {},
   "cell_type": "markdown",
   "source": [
    "1) Магазин по продаже конфет.\n",
    "\t- Пользователь должен ввести вес конфет.\n",
    "\t- В магазине проходит акция, если вес конфет больше 1.5 кг, то стоимость за килограмм - 200р.\n",
    "\t- Обычная цена на конфеты - 250р за килограмм.\n",
    "\t- Магазин продаёт конфет не меньше 500грамм.\n",
    "\t- Вывести цену за конфеты.\n",
    "\t\n",
    "\tОбязательно проверьте, что будут обработаны любые значения веса (числовые)."
   ],
   "id": "29bf286153771e94"
  },
  {
   "metadata": {
    "ExecuteTime": {
     "end_time": "2025-08-09T13:41:30.639354Z",
     "start_time": "2025-08-09T13:41:24.255346Z"
    }
   },
   "cell_type": "code",
   "source": [
    "print(\"Welcome to candy-shop:\")\n",
    "price_candy = 250.0\n",
    "weight_candy = float(input(\"What is your weight in kg candy? \"))\n",
    "if weight_candy > 1.5:\n",
    "    price_candy = price_candy - 50\n",
    "    print(f\"Attention! Promotion! You price of candy {weight_candy} kg is {price_candy}. Your amount purchased is {weight_candy * price_candy: .2f} rubles\")\n",
    "elif weight_candy < 0.5:\n",
    "    print(\"Sorry, minimum purchase amount in candy-shop is 0.5 kg. Get more candy!\")\n",
    "else:\n",
    "    print(f\"Your amount purchase is: {weight_candy * price_candy: .2f} rubles\")"
   ],
   "id": "46a3ed4687033ef8",
   "outputs": [
    {
     "name": "stdout",
     "output_type": "stream",
     "text": [
      "Welcome to candy-shop:\n",
      "Your amount purchase is:  191.66 rubles\n"
     ]
    }
   ],
   "execution_count": 302
  },
  {
   "metadata": {},
   "cell_type": "markdown",
   "source": [
    "2) Расчёт кредита\n",
    "\t- Пользователь должен ввести три значения: срок кредита в месяцах и сумму.\n",
    "\t- Вывести ежемесячный платёж.\n",
    "\t- Если срок кредита до 6 месяцев включительно, то переплата составляет 5% от суммы.\n",
    "\t- Если срок кредита до года включительно, то переплата - 10%.\n",
    "\t- Если срок больше года, то кредит не выдаётся"
   ],
   "id": "74a8e1541fe7dca"
  },
  {
   "metadata": {
    "ExecuteTime": {
     "end_time": "2025-08-09T13:42:34.112051Z",
     "start_time": "2025-08-09T13:42:20.442664Z"
    }
   },
   "cell_type": "code",
   "source": [
    "print(\"Welcome to 'Our Bank'. Credits for you every day!\")\n",
    "monthly_payment = 1\n",
    "start_month = int(input(\"Enter start month for credit to you in number:\"))\n",
    "end_month = int(input(\"Enter end month for credit to you in number:\"))\n",
    "period = end_month - start_month\n",
    "if period < 0 and period != -12:\n",
    "    period += 12\n",
    "print(f\"The period of time over which you take the loan is {period} months - \")\n",
    "loan_amount = int(input(\"Enter desired loan amount:\"))\n",
    "if end_month - start_month <= 6 or end_month - start_month <= -6:\n",
    "    monthly_payment = loan_amount * 0.05 + (loan_amount // period)\n",
    "    print(f\"Your monthly payment is {monthly_payment:.2f} dollars\")\n",
    "elif end_month - start_month <= 12 or end_month - start_month <= -12:\n",
    "    monthly_payment = loan_amount * 0.1 + (loan_amount // period)\n",
    "    print(f\"Your monthly payment is {monthly_payment:.2f} dollars\")\n",
    "elif end_month - start_month > 12 or end_month - start_month <= -12:\n",
    "    print(\"Sorry, we can’t approve the loan for such a long term. Come later!\")"
   ],
   "id": "f261ce98d66b99cd",
   "outputs": [
    {
     "name": "stdout",
     "output_type": "stream",
     "text": [
      "Welcome to 'Our Bank'. Credits for you every day!\n",
      "The period of time over which you take the loan is 8 months - \n",
      "Your monthly payment is 225.00 dollars\n"
     ]
    }
   ],
   "execution_count": 304
  },
  {
   "metadata": {},
   "cell_type": "markdown",
   "source": "Задачи на циклы.",
   "id": "99a04d4f4c48cc0d"
  },
  {
   "metadata": {},
   "cell_type": "markdown",
   "source": [
    "1) Числа от 0 до N кратные K\n",
    "\tобъявить переменные N и K\n",
    "\tиспользуя цикл вывести только те значения в промежутке от 0 до N, которые делятся на K без остатка."
   ],
   "id": "9af4793076f4a3c"
  },
  {
   "metadata": {
    "ExecuteTime": {
     "end_time": "2025-08-09T13:43:13.110004Z",
     "start_time": "2025-08-09T13:43:05.867053Z"
    }
   },
   "cell_type": "code",
   "source": [
    "numeral_N = int(input(\"Enter you number: \"))\n",
    "divider_K = int(input(\"Enter a number to divide by number:\"))\n",
    "for i in range(1, numeral_N + 1):\n",
    "    if i % divider_K == 0:\n",
    "        print(f\"Number {i} divided by {divider_K} = {i  // divider_K}\")"
   ],
   "id": "7ffb27d7317f161c",
   "outputs": [
    {
     "name": "stdout",
     "output_type": "stream",
     "text": [
      "Number 4 divided by 4 = 1\n",
      "Number 8 divided by 4 = 2\n",
      "Number 12 divided by 4 = 3\n"
     ]
    }
   ],
   "execution_count": 305
  },
  {
   "metadata": {},
   "cell_type": "markdown",
   "source": [
    "2) Все делители числа X:\n",
    "\t- используя цикл вывести в консоль все целые делители числа X\n",
    "\t- например X = 30 делители - 2, 3, 5, 10, 15 \n",
    "\t    - 1 и 30 выводить не нужно "
   ],
   "id": "d6af115584c90b2f"
  },
  {
   "metadata": {
    "ExecuteTime": {
     "end_time": "2025-08-09T13:44:29.029481Z",
     "start_time": "2025-08-09T13:44:24.606351Z"
    }
   },
   "cell_type": "code",
   "source": [
    "number = int(input(\"Enter a number for divided\"))\n",
    "for i in range(1, number  + 1):\n",
    "    if number % i == 0:\n",
    "        if i != number:\n",
    "            if i != 1:\n",
    "                print(f\"Result: number {number} divided {i}  = {number // i}\")"
   ],
   "id": "e0ecad8b996c19c",
   "outputs": [
    {
     "name": "stdout",
     "output_type": "stream",
     "text": [
      "Result: number 30 divided 2  = 15\n",
      "Result: number 30 divided 3  = 10\n",
      "Result: number 30 divided 5  = 6\n",
      "Result: number 30 divided 6  = 5\n",
      "Result: number 30 divided 10  = 3\n",
      "Result: number 30 divided 15  = 2\n"
     ]
    }
   ],
   "execution_count": 307
  },
  {
   "metadata": {},
   "cell_type": "markdown",
   "source": [
    "3) Возведение в степень циклом: \n",
    "\t- объявить две переменные (число и степень в которую нужно возвести)\n",
    "\t- написать цикл, который возведёт число в нужную степень\n",
    "\t- вывести результат в консоль\n",
    "\t     -  !пользоваться специальными функциями и готовыми операторами не нужно, задачу необходимо решить только циклом"
   ],
   "id": "ce772ad8f33ba944"
  },
  {
   "metadata": {
    "ExecuteTime": {
     "end_time": "2025-08-09T13:48:19.262256Z",
     "start_time": "2025-08-09T13:48:12.928882Z"
    }
   },
   "cell_type": "code",
   "source": [
    "index = 2\n",
    "number = int(input(\"Enter yours number, please: \"))\n",
    "degree = int(input(\"Enter yours number, please: \"))\n",
    "print(f\"Your number is {number}. Your degree is {degree}\")\n",
    "while index <= number:\n",
    "    print(f\"Degree number {index} is {index ** degree}\")\n",
    "    index += 1"
   ],
   "id": "9dc92014286dac0f",
   "outputs": [
    {
     "name": "stdout",
     "output_type": "stream",
     "text": [
      "Your number is 5. Your degree is 4\n",
      "Degree number 2 is 16\n",
      "Degree number 3 is 81\n",
      "Degree number 4 is 256\n",
      "Degree number 5 is 625\n"
     ]
    }
   ],
   "execution_count": 311
  },
  {
   "metadata": {},
   "cell_type": "markdown",
   "source": [
    "4) Простое число:\n",
    "\t- объявить переменную N\n",
    "\t- проверить, является ли число N простым\n",
    "\t  - простое число делится только на 1 и само на себя,  например 3, 5, 7, 11, 13, 17\n"
   ],
   "id": "e7e1ccdc759c4fa4"
  },
  {
   "metadata": {
    "ExecuteTime": {
     "end_time": "2025-08-09T13:48:51.419128Z",
     "start_time": "2025-08-09T13:48:47.267047Z"
    }
   },
   "cell_type": "code",
   "source": [
    "def prime_numbers(limit):\n",
    "    print(f\"Your number is {limit}:\")\n",
    "    for num in range(2, limit):\n",
    "        is_prime = True\n",
    "        for item in range(2, int(num ** 0.5) + 1):\n",
    "            if num % item == 0:\n",
    "                is_prime = False\n",
    "                break\n",
    "        if is_prime:            \n",
    "            print(f\"{num} - number is prime\")\n",
    "prime_numbers(int(input(\"Enter a number: \")))"
   ],
   "id": "3adec5ef95a82446",
   "outputs": [
    {
     "name": "stdout",
     "output_type": "stream",
     "text": [
      "Your number is 321:\n",
      "2 - number is prime\n",
      "3 - number is prime\n",
      "5 - number is prime\n",
      "7 - number is prime\n",
      "11 - number is prime\n",
      "13 - number is prime\n",
      "17 - number is prime\n",
      "19 - number is prime\n",
      "23 - number is prime\n",
      "29 - number is prime\n",
      "31 - number is prime\n",
      "37 - number is prime\n",
      "41 - number is prime\n",
      "43 - number is prime\n",
      "47 - number is prime\n",
      "53 - number is prime\n",
      "59 - number is prime\n",
      "61 - number is prime\n",
      "67 - number is prime\n",
      "71 - number is prime\n",
      "73 - number is prime\n",
      "79 - number is prime\n",
      "83 - number is prime\n",
      "89 - number is prime\n",
      "97 - number is prime\n",
      "101 - number is prime\n",
      "103 - number is prime\n",
      "107 - number is prime\n",
      "109 - number is prime\n",
      "113 - number is prime\n",
      "127 - number is prime\n",
      "131 - number is prime\n",
      "137 - number is prime\n",
      "139 - number is prime\n",
      "149 - number is prime\n",
      "151 - number is prime\n",
      "157 - number is prime\n",
      "163 - number is prime\n",
      "167 - number is prime\n",
      "173 - number is prime\n",
      "179 - number is prime\n",
      "181 - number is prime\n",
      "191 - number is prime\n",
      "193 - number is prime\n",
      "197 - number is prime\n",
      "199 - number is prime\n",
      "211 - number is prime\n",
      "223 - number is prime\n",
      "227 - number is prime\n",
      "229 - number is prime\n",
      "233 - number is prime\n",
      "239 - number is prime\n",
      "241 - number is prime\n",
      "251 - number is prime\n",
      "257 - number is prime\n",
      "263 - number is prime\n",
      "269 - number is prime\n",
      "271 - number is prime\n",
      "277 - number is prime\n",
      "281 - number is prime\n",
      "283 - number is prime\n",
      "293 - number is prime\n",
      "307 - number is prime\n",
      "311 - number is prime\n",
      "313 - number is prime\n",
      "317 - number is prime\n"
     ]
    }
   ],
   "execution_count": 312
  }
 ],
 "metadata": {
  "kernelspec": {
   "display_name": "Python 3",
   "language": "python",
   "name": "python3"
  },
  "language_info": {
   "codemirror_mode": {
    "name": "ipython",
    "version": 2
   },
   "file_extension": ".py",
   "mimetype": "text/x-python",
   "name": "python",
   "nbconvert_exporter": "python",
   "pygments_lexer": "ipython2",
   "version": "2.7.6"
  }
 },
 "nbformat": 4,
 "nbformat_minor": 5
}
